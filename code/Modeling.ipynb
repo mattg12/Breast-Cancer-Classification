{
 "cells": [
  {
   "cell_type": "markdown",
   "metadata": {},
   "source": [
    "---\n",
    "<img src=\"../assets/grt_logo.png\" style=\"float: left; margin: 20px; height: 55px\">\n",
    "\n",
    "# Garton Research & Trading\n",
    "\n",
    "_May 2019_\n",
    "\n",
    "---\n",
    "\n",
    "## Breast Cancer Classification Study\n",
    "\n",
    "---\n",
    "\n",
    "**Context:** The purpose of this study is to use classification modeling techniques for breast cancer diagnosis. This is primarily a learning exercise for me in exploring machine learning concepts. For this study I used the [Wisconsin Breast Cancer Classification](https://archive.ics.uci.edu/ml/datasets/Breast+Cancer+Wisconsin+%28Original%29) dataset from the UCI Repository.\n",
    "\n",
    "In this final notebook, I turn my attention to modeling. I'll build and evaluate a few different classifiers to diagnose breast cancer cells as either malignant or benign.\n",
    "\n",
    "_Author: Matthew Garton_"
   ]
  },
  {
   "cell_type": "code",
   "execution_count": 1,
   "metadata": {},
   "outputs": [],
   "source": [
    "import numpy as np\n",
    "import pandas as pd\n",
    "import scipy.stats as stats\n",
    "import matplotlib.pyplot as plt\n",
    "from sklearn.model_selection import train_test_split, cross_validate, GridSearchCV\n",
    "from sklearn.linear_model import LogisticRegression\n",
    "from sklearn.tree import DecisionTreeClassifier\n",
    "from sklearn.metrics import mean_squared_error, precision_recall_fscore_support, classification_report, roc_auc_score, roc_curve, auc, confusion_matrix\n",
    "from sklearn.pipeline import Pipeline\n",
    "from sklearn.preprocessing import StandardScaler, PolynomialFeatures\n",
    "\n",
    "%matplotlib inline"
   ]
  },
  {
   "cell_type": "code",
   "execution_count": 2,
   "metadata": {},
   "outputs": [],
   "source": [
    "# load in the (cleaned) dataset\n",
    "cancer = pd.read_csv('../data/breast-cancer-cleaned.csv', index_col=0)"
   ]
  },
  {
   "cell_type": "code",
   "execution_count": 3,
   "metadata": {},
   "outputs": [],
   "source": [
    "# These are some reusable functions that I wrote previously and like to use for any classification problem:\n",
    "# They give me to get a nice printout of results which is generalizable for any scikit-learn model\n",
    "\n",
    "def plot_roc_auc(fpr, tpr, roc_auc):\n",
    "    '''Plots the ROC-AUC for a given model and test data'''\n",
    "\n",
    "    # Create a plot of the ROC-AUC Curve\n",
    "    plt.figure(figsize = (10,6))\n",
    "    plt.title('Receiver Operating Characteristic')\n",
    "    plt.plot(fpr, tpr, 'b', label = 'AUC = {}'.format(round(roc_auc, 2)))\n",
    "    plt.legend(loc = 'lower right')\n",
    "    plt.plot([0, 1], [0, 1],'r--')\n",
    "    plt.xlim([0, 1])\n",
    "    plt.ylim([0, 1])\n",
    "    plt.xlabel(\"False Positive Rate (1 - Specificity)\")\n",
    "    plt.ylabel(\"True Positive Rate (Sensitivity)\")\n",
    "    plt.show()\n",
    "    \n",
    "def get_classification_results(model, model_name, X_train, X_test, y_train, y_test):\n",
    "    '''For a classification model, predict y values and calculate Accuracy, return a confustion matrix,\n",
    "    calculate TP, TN, FP, FN, and other metrics on both training and testing data'''\n",
    "    \n",
    "    # Training Scores\n",
    "    y_predict_tr = model.predict(X_train)\n",
    "    accuracy_train = model.score(X_train, y_train)\n",
    "    \n",
    "    # Testing Scores\n",
    "    y_predict = model.predict(X_test)\n",
    "    accuracy_test = model.score(X_test, y_test)\n",
    "    precision, recall, fbeta_score, support = precision_recall_fscore_support(y_test, y_predict)\n",
    "    \n",
    "    # ROC-AUC\n",
    "    probas = model.predict_proba(X_test)\n",
    "    preds = probas[:,1]\n",
    "    fpr, tpr, threshold = roc_curve(y_test, model.predict_proba(X_test)[:,1])\n",
    "    roc_auc = auc(fpr, tpr)\n",
    "    \n",
    "    # Create dictionary to store model results\n",
    "    model_dict = {\n",
    "        'Model': model_name,\n",
    "        'Train Accuracy': accuracy_train,\n",
    "        'Test Accuracy': accuracy_test,\n",
    "        'Precision': precision,\n",
    "        'Recall': recall,\n",
    "        'F_1 Score': fbeta_score,\n",
    "        'Support': support,\n",
    "        'ROC-AUC': roc_auc\n",
    "    }\n",
    "    \n",
    "    # Generate confusion matrix\n",
    "    cm = confusion_matrix(y_test, y_predict) \n",
    "\n",
    "    print(classification_report(y_test, y_predict), '\\n')\n",
    "    print('ROC-AUC: {}'.format(roc_auc))\n",
    "    \n",
    "    plot_roc_auc(fpr, tpr, roc_auc)\n",
    "    \n",
    "    return model_dict, cm\n",
    "\n",
    "def print_confusion_matrix(cm):\n",
    "    \"\"\"Given a confusion matrix, produce a table showing the results\"\"\"\n",
    "    cm_df = pd.DataFrame(data=cm, columns=['Predicted Benign', 'Predicted Malignant'],\n",
    "                         index=['Actual Benign', 'Actual Malignant'])\n",
    "    return cm_df"
   ]
  },
  {
   "cell_type": "markdown",
   "metadata": {},
   "source": [
    "## Data Preparation\n",
    "\n",
    "The following cells, which will be repeated below for the other models, are standard first steps for any modeling problem.\n",
    "\n",
    "1. First, split data into matrix **X** of predictors and vector **y** target.\n",
    "2. Train test split (crucial to do this before conducting analysis - in fact, best practice would have been to do this _before_ even doing any EDA/Visualizations)\n",
    "3. (If necessary) Standard scale **X** variables."
   ]
  },
  {
   "cell_type": "code",
   "execution_count": 4,
   "metadata": {},
   "outputs": [],
   "source": [
    "# Split data into X and y\n",
    "X = cancer.drop(columns='diagnosis')\n",
    "y = cancer['diagnosis']\n",
    "\n",
    "# train test split\n",
    "X_train, X_test, y_train, y_test = train_test_split(X, y, \n",
    "                                                    test_size=0.2, \n",
    "                                                    random_state=42,\n",
    "                                                    stratify=y)"
   ]
  },
  {
   "cell_type": "code",
   "execution_count": 5,
   "metadata": {},
   "outputs": [],
   "source": [
    "## (Optional) - run this cell to Standard Scale your features\n",
    "## Necessary for implementing Ridge or Lasso regularization, \n",
    "## but not required for Ordinary Least Squares Regression\n",
    "\n",
    "ss = StandardScaler()\n",
    "ss.fit(X_train)\n",
    "X_train_scaled = ss.transform(X_train)\n",
    "X_test_scaled = ss.transform(X_test)"
   ]
  },
  {
   "cell_type": "markdown",
   "metadata": {},
   "source": [
    "## Logistic Regression\n",
    "\n",
    "The first model I will build is a logistic regression. \n",
    "\n",
    "**Advantages**:\n",
    "1. Linear models are easier to understand and interpret, so when it is important to be able to understand the model, or explain it to a non-technical audience, they can often be preferable.\n",
    "2. Coefficients provide a direct description of how each predictor relates to the target.\n",
    "3. Being a simpler model, regression is less prone to overfitting than some more complex classifiers.\n",
    "\n",
    "**Disadvantages**:\n",
    "1. Linear models are generally simple and inflexible. As the name suggests, they assume a linear relationship between the X and y variables. Therefore, they tend to be high-bias and can fail to detect meaningful non-linear relationships.\n",
    "2. Regression models rely on relatively strict assumptions of the underlying variables, their relationships to each other, and of the distribution of errors. In addition to the linearity assumption, regression models assume no multicollinearity between independent variables, and normality of errors."
   ]
  },
  {
   "cell_type": "code",
   "execution_count": 6,
   "metadata": {},
   "outputs": [
    {
     "name": "stdout",
     "output_type": "stream",
     "text": [
      "Logreg intercept: [-0.38873376]\n",
      "Logreg coef(s): [[-1.97578297e+00 -1.81199439e-01  7.74744683e-02  1.10959452e-03\n",
      "   1.37433091e-01  3.85920754e-01  5.70695440e-01  3.05171275e-01\n",
      "   1.78375820e-01  2.54480144e-02  2.13907869e-02 -1.60283379e+00\n",
      "   2.03359352e-01  9.19141604e-02  1.37503383e-02  3.66132620e-03\n",
      "   4.95654553e-02  3.67975905e-02  4.48122079e-02 -5.49586079e-03\n",
      "  -1.22691467e+00  4.36847299e-01  8.05824397e-02  2.53076956e-02\n",
      "   2.20599692e-01  1.03216884e+00  1.36509503e+00  5.44794905e-01\n",
      "   6.78908798e-01  9.19582064e-02]]\n",
      "\n",
      "Train Score: 0.9582417582417583\n",
      "Test Score: 0.9385964912280702\n"
     ]
    }
   ],
   "source": [
    "# Instantiate model\n",
    "logreg = LogisticRegression()\n",
    "\n",
    "# Fit model\n",
    "logreg.fit(X_train, y_train)\n",
    "\n",
    "# View parameters\n",
    "print('Logreg intercept:', logreg.intercept_)\n",
    "print('Logreg coef(s):', logreg.coef_)\n",
    "\n",
    "# Evaluate model\n",
    "print(f'\\nTrain Score: {logreg.score(X_train, y_train)}')\n",
    "print(f'Test Score: {logreg.score(X_test, y_test)}')"
   ]
  },
  {
   "cell_type": "markdown",
   "metadata": {},
   "source": [
    "**Controlling for overfitting**\n",
    "\n",
    "While the above example actually performed quite well and does not appear to suffer from overfitting, there are a few common strategies to control overfitting for logistic regression models. Among the most common and easiest to implement are Ridge and Lasso regularization. These are two ways of adding a 'penalty' to the loss function for adding additional variables. Lasso will try to filter out less useful predictors entirely, while Ridge shrinks coefficients without getting rid of them entirely. Below, I show one example of using a gridsearch to test out different ridge and lasso penalties.\n",
    "\n",
    "A couple of other approaches to controlling for overfitting include dimensionality reduction (for example, by using Principal Component Analysis to extract the most meaningful variations in the data) or a less systematic approach of choosing which variables (and polynomials) to include or drop out."
   ]
  },
  {
   "cell_type": "code",
   "execution_count": 7,
   "metadata": {},
   "outputs": [
    {
     "name": "stdout",
     "output_type": "stream",
     "text": [
      "             precision    recall  f1-score   support\n",
      "\n",
      "          0       0.97      0.99      0.98        72\n",
      "          1       0.98      0.95      0.96        42\n",
      "\n",
      "avg / total       0.97      0.97      0.97       114\n",
      " \n",
      "\n",
      "ROC-AUC: 0.9963624338624338\n"
     ]
    },
    {
     "data": {
      "image/png": "[encoded data removed]",
      "text/plain": [
       "<Figure size 720x432 with 1 Axes>"
      ]
     },
     "metadata": {
      "needs_background": "light"
     },
     "output_type": "display_data"
    },
    {
     "data": {
      "text/html": [
       "<div>\n",
       "<style scoped>\n",
       "    .dataframe tbody tr th:only-of-type {\n",
       "        vertical-align: middle;\n",
       "    }\n",
       "\n",
       "    .dataframe tbody tr th {\n",
       "        vertical-align: top;\n",
       "    }\n",
       "\n",
       "    .dataframe thead th {\n",
       "        text-align: right;\n",
       "    }\n",
       "</style>\n",
       "<table border=\"1\" class=\"dataframe\">\n",
       "  <thead>\n",
       "    <tr style=\"text-align: right;\">\n",
       "      <th></th>\n",
       "      <th>Predicted Benign</th>\n",
       "      <th>Predicted Malignant</th>\n",
       "    </tr>\n",
       "  </thead>\n",
       "  <tbody>\n",
       "    <tr>\n",
       "      <th>Actual Benign</th>\n",
       "      <td>71</td>\n",
       "      <td>1</td>\n",
       "    </tr>\n",
       "    <tr>\n",
       "      <th>Actual Malignant</th>\n",
       "      <td>2</td>\n",
       "      <td>40</td>\n",
       "    </tr>\n",
       "  </tbody>\n",
       "</table>\n",
       "</div>"
      ],
      "text/plain": [
       "                  Predicted Benign  Predicted Malignant\n",
       "Actual Benign                   71                    1\n",
       "Actual Malignant                 2                   40"
      ]
     },
     "execution_count": 7,
     "metadata": {},
     "output_type": "execute_result"
    }
   ],
   "source": [
    "# Logistic Regression Model\n",
    "\n",
    "# Set up gridsearch\n",
    "grid_params = {\n",
    "    'penalty':['l1','l2'], # test out both ridge and lasso regularization\n",
    "    'C':[0.01, 0.1, 0.5, 1] # try a range of 'penalties' - smaller values of C means more regularization\n",
    "}\n",
    "\n",
    "lr = LogisticRegression()\n",
    "\n",
    "gs = GridSearchCV(lr, grid_params, scoring='roc_auc', n_jobs=-1)\n",
    "model = gs.fit(X_train_scaled, y_train)\n",
    "\n",
    "# Run and evaluate model\n",
    "model_dict, cm = get_classification_results(model, 'Logistic Regression (basic)',\n",
    "                                            X_train_scaled, X_test_scaled,\n",
    "                                            y_train, y_test)\n",
    "\n",
    "print_confusion_matrix(cm)\n",
    "\n"
   ]
  },
  {
   "cell_type": "code",
   "execution_count": 8,
   "metadata": {},
   "outputs": [
    {
     "name": "stdout",
     "output_type": "stream",
     "text": [
      "{'C': 1, 'penalty': 'l1'}\n"
     ]
    }
   ],
   "source": [
    "# When using gridsearch, it's always a good idea to check which model parameters 'won'\n",
    "print(model.best_params_)\n",
    "\n",
    "# In this case it turns out that the best model had no regularization"
   ]
  },
  {
   "cell_type": "markdown",
   "metadata": {},
   "source": [
    "## Model Evaluation\n",
    "\n",
    "**Baseline Accuracy:** Recall that earlier analysis showed the balance between benign and malignant to be 38% to 62%, respectively, implying a baseline accuracy of 62% as a worst-case-scenario.\n",
    "\n",
    "**Labeling:** For this problem, a positive case (value of 1) is a malignant diagnosis, and a negative case (value of 0) is a benign one.\n",
    "\n",
    "I used a few different criteria to evaluate my model. The default and a good starting point for most classification problems is **accuracy**, or the percentage of correct predictions. On this metric, the basic logistic regression model performed quite well and and exhibitied low-bias (similarly high accuracy on training and testing data. Other metrics used, were **precision** (or positive predictive value - which indicates the percent of positive predictions which were correct), **recall** (which measures the percentage of positive cases that were correctly identified), **f1-score** (which takes into account both false positives and false negatives) and **ROC-AUC** (area under the curve of the receiver-operator-characteristic which we want to maximize and shows the tradeoff between True Positives and False Positives). On all of these metrics, the model performs extremely well, with values very close to 1.0.\n",
    "\n",
    "## Feature Importance\n",
    "\n",
    "While the coefficients in a logistic regression provide a useful interpretation (effect of a one unit change in $x_i$ on the log-odds of $y$), there is actually not a straightforward way to _rank_ the coefficients in terms of importance. However, there are a couple of methods I'll use to get a relative understanding of the importance of each. First, ranking them by coefficient should give a pretty good idea of which variables are most important (I'll use the second model, because the features have already been standardized, so the variable _scale_ won't be confused with variable _importance_."
   ]
  },
  {
   "cell_type": "code",
   "execution_count": 9,
   "metadata": {},
   "outputs": [
    {
     "name": "stdout",
     "output_type": "stream",
     "text": [
      "                            Coefficient\n",
      "area_sd_error                  2.656839\n",
      "concave_points_worst           2.104388\n",
      "concave_points_mean            2.073949\n",
      "perimeter_sd_error             1.917372\n",
      "concavity_worst                1.618461\n",
      "symmetry_worst                 1.093838\n",
      "fractal_dimension_sd_error     0.658402\n",
      "smoothness_worst               0.314263\n",
      "fractal_dimension_mean         0.280369\n",
      "symmetry_mean                  0.260024\n",
      "compactness_worst              0.222219\n",
      "radius_mean                    0.000000\n",
      "compactness_sd_error           0.000000\n",
      "symmetry_sd_error              0.000000\n",
      "concave_points_sd_error        0.000000\n",
      "\n",
      "                         Coefficient\n",
      "compactness_mean           -0.994067\n",
      "area_worst                 -0.689397\n",
      "concavity_sd_error         -0.278569\n",
      "radius_mean                 0.000000\n",
      "symmetry_sd_error           0.000000\n",
      "concave_points_sd_error     0.000000\n",
      "concavity_mean              0.000000\n",
      "compactness_sd_error        0.000000\n",
      "smoothness_sd_error         0.000000\n",
      "smoothness_mean             0.000000\n",
      "fractal_dimension_worst     0.000000\n",
      "area_mean                   0.000000\n",
      "perimeter_worst             0.000000\n",
      "radius_sd_error             0.000000\n",
      "perimeter_mean              0.000000\n"
     ]
    }
   ],
   "source": [
    "coefs = pd.DataFrame(data=model.best_estimator_.coef_.T, index=X.columns, columns=['Coefficient'])\n",
    "print(coefs.sort_values(by='Coefficient', ascending=False).head(15))\n",
    "print('')\n",
    "print(coefs.sort_values(by='Coefficient', ascending=True).head(15))"
   ]
  },
  {
   "cell_type": "markdown",
   "metadata": {},
   "source": [
    "In theory, the above tells me which variables have the greatest (positive and negative) influence on the probability of a malignant diagnosis. However, there are a number of problems with this approach. Most importantly, the coefficients only give an estimate of the relationship between $x_i$ and $y$ _all else equal_, which is not what we tend to see in the real world. Additionally, the size of the coefficient tells me nothing about the statistical significance of the relationship. \n",
    "\n",
    "Below, I implement a scikit-learn feature selection method, `f_classif()` which produces F values of features for a classification problem, based on univariate analyses of each feature. To clarify, what I'm going here is performing an F-test of each variable _individually_ to determine whether or not it's coefficient is meaningful as a predictor of y. Again, the ranking produced below is not a rigorous ordering of variables by importance per se, but it is another way to view which features are important - those with low p-values and high f scores are likely important predictors, etc.. "
   ]
  },
  {
   "cell_type": "code",
   "execution_count": 10,
   "metadata": {},
   "outputs": [
    {
     "data": {
      "text/html": [
       "<div>\n",
       "<style scoped>\n",
       "    .dataframe tbody tr th:only-of-type {\n",
       "        vertical-align: middle;\n",
       "    }\n",
       "\n",
       "    .dataframe tbody tr th {\n",
       "        vertical-align: top;\n",
       "    }\n",
       "\n",
       "    .dataframe thead th {\n",
       "        text-align: right;\n",
       "    }\n",
       "</style>\n",
       "<table border=\"1\" class=\"dataframe\">\n",
       "  <thead>\n",
       "    <tr style=\"text-align: right;\">\n",
       "      <th></th>\n",
       "      <th>f_score (univariate)</th>\n",
       "      <th>p_value</th>\n",
       "    </tr>\n",
       "  </thead>\n",
       "  <tbody>\n",
       "    <tr>\n",
       "      <th>fractal_dimension_mean</th>\n",
       "      <td>733.724933</td>\n",
       "      <td>8.778594e-97</td>\n",
       "    </tr>\n",
       "    <tr>\n",
       "      <th>concave_points_sd_error</th>\n",
       "      <td>717.246487</td>\n",
       "      <td>2.093046e-95</td>\n",
       "    </tr>\n",
       "    <tr>\n",
       "      <th>concavity_worst</th>\n",
       "      <td>692.861395</td>\n",
       "      <td>2.483688e-93</td>\n",
       "    </tr>\n",
       "    <tr>\n",
       "      <th>perimeter_sd_error</th>\n",
       "      <td>684.526845</td>\n",
       "      <td>1.300875e-92</td>\n",
       "    </tr>\n",
       "    <tr>\n",
       "      <th>radius_worst</th>\n",
       "      <td>548.413236</td>\n",
       "      <td>4.687521e-80</td>\n",
       "    </tr>\n",
       "    <tr>\n",
       "      <th>concave_points_worst</th>\n",
       "      <td>522.188947</td>\n",
       "      <td>1.932387e-77</td>\n",
       "    </tr>\n",
       "    <tr>\n",
       "      <th>radius_mean</th>\n",
       "      <td>511.274848</td>\n",
       "      <td>2.485053e-76</td>\n",
       "    </tr>\n",
       "    <tr>\n",
       "      <th>texture_mean</th>\n",
       "      <td>444.857518</td>\n",
       "      <td>2.691158e-69</td>\n",
       "    </tr>\n",
       "    <tr>\n",
       "      <th>perimeter_mean</th>\n",
       "      <td>397.592082</td>\n",
       "      <td>5.781926e-64</td>\n",
       "    </tr>\n",
       "    <tr>\n",
       "      <th>symmetry_worst</th>\n",
       "      <td>319.507776</td>\n",
       "      <td>1.820808e-54</td>\n",
       "    </tr>\n",
       "  </tbody>\n",
       "</table>\n",
       "</div>"
      ],
      "text/plain": [
       "                         f_score (univariate)       p_value\n",
       "fractal_dimension_mean             733.724933  8.778594e-97\n",
       "concave_points_sd_error            717.246487  2.093046e-95\n",
       "concavity_worst                    692.861395  2.483688e-93\n",
       "perimeter_sd_error                 684.526845  1.300875e-92\n",
       "radius_worst                       548.413236  4.687521e-80\n",
       "concave_points_worst               522.188947  1.932387e-77\n",
       "radius_mean                        511.274848  2.485053e-76\n",
       "texture_mean                       444.857518  2.691158e-69\n",
       "perimeter_mean                     397.592082  5.781926e-64\n",
       "symmetry_worst                     319.507776  1.820808e-54"
      ]
     },
     "execution_count": 10,
     "metadata": {},
     "output_type": "execute_result"
    }
   ],
   "source": [
    "from sklearn.feature_selection import f_classif\n",
    "\n",
    "f_scores = f_classif(X_train, y_train)\n",
    "\n",
    "coefs = pd.DataFrame(data={'f_score (univariate)': f_scores[0],\n",
    "                           'p_value': f_scores[1]},\n",
    "                           index=X.columns)\n",
    "\n",
    "coefs.sort_values(by='f_score (univariate)', ascending=False).head(10)"
   ]
  },
  {
   "cell_type": "markdown",
   "metadata": {},
   "source": [
    "***"
   ]
  },
  {
   "cell_type": "markdown",
   "metadata": {},
   "source": [
    "To reduce scrolling back and forth and to minimize errors, I am repeating the data preparation steps below before proceeding to a new model."
   ]
  },
  {
   "cell_type": "code",
   "execution_count": 11,
   "metadata": {},
   "outputs": [],
   "source": [
    "# Split data into X and y\n",
    "X = cancer.drop(columns='diagnosis')\n",
    "y = cancer['diagnosis']\n",
    "\n",
    "# train test split\n",
    "X_train, X_test, y_train, y_test = train_test_split(X, y, \n",
    "                                                    test_size=0.2, \n",
    "                                                    random_state=42,\n",
    "                                                    stratify=y)"
   ]
  },
  {
   "cell_type": "markdown",
   "metadata": {},
   "source": [
    "## Decision Tree Classifier\n",
    "\n",
    "The second model I'd like to try is the Decision Tree Classifier. \n",
    "\n",
    "**Advantages**\n",
    "\n",
    "1. This model is extremely intuitive and easy for even a non-technical audience to understand.\n",
    "2. Decision Trees are much more flexible than Regression models as they do not rely on a linear relationship and make far fewer assumptions about the underlying data.\n",
    "3. As shown below, decision trees provide a very clear-cut way to rank the usefulness of features.\n",
    "\n",
    "**Disadvantages**\n",
    "\n",
    "1. The most notable downside of Decision Trees is that they are highly prone to overfitting, due to their relative flexibility.\n",
    "2. The specific interpretation of each variable's effect on y is less clear than for a logistic regression."
   ]
  },
  {
   "cell_type": "code",
   "execution_count": 12,
   "metadata": {},
   "outputs": [
    {
     "name": "stdout",
     "output_type": "stream",
     "text": [
      "\n",
      "Train Score: 1.0\n",
      "Test Score: 0.9298245614035088\n"
     ]
    }
   ],
   "source": [
    "# Instantiate model\n",
    "dt = DecisionTreeClassifier()\n",
    "\n",
    "# Fit model\n",
    "dt.fit(X_train, y_train)\n",
    "\n",
    "# View parameters\n",
    "dt.get_params()\n",
    "\n",
    "# Evaluate model\n",
    "print(f'\\nTrain Score: {dt.score(X_train, y_train)}')\n",
    "print(f'Test Score: {dt.score(X_test, y_test)}')"
   ]
  },
  {
   "cell_type": "markdown",
   "metadata": {},
   "source": [
    "## Feature Importance\n",
    "\n",
    "A nice feature of Decision Tree models is that they provide a very useful and intuitive way to rank variables by their importance/usefulness. A commonly used metric is the Gini coefficient, which provides a measure of the _purity_ of resulting nodes after a split is made based on a particular criteria. The idea being, you want to make your splits based on the features which will result in the _purest_ child nodes (pure meaning fully imbalanced classes - ideally 100% of one label and 0% of the other)."
   ]
  },
  {
   "cell_type": "code",
   "execution_count": 13,
   "metadata": {},
   "outputs": [
    {
     "data": {
      "text/html": [
       "<div>\n",
       "<style scoped>\n",
       "    .dataframe tbody tr th:only-of-type {\n",
       "        vertical-align: middle;\n",
       "    }\n",
       "\n",
       "    .dataframe tbody tr th {\n",
       "        vertical-align: top;\n",
       "    }\n",
       "\n",
       "    .dataframe thead th {\n",
       "        text-align: right;\n",
       "    }\n",
       "</style>\n",
       "<table border=\"1\" class=\"dataframe\">\n",
       "  <thead>\n",
       "    <tr style=\"text-align: right;\">\n",
       "      <th></th>\n",
       "      <th>Gini_Coefficient</th>\n",
       "    </tr>\n",
       "  </thead>\n",
       "  <tbody>\n",
       "    <tr>\n",
       "      <th>concave_points_sd_error</th>\n",
       "      <td>0.723157</td>\n",
       "    </tr>\n",
       "    <tr>\n",
       "      <th>fractal_dimension_mean</th>\n",
       "      <td>0.067700</td>\n",
       "    </tr>\n",
       "    <tr>\n",
       "      <th>symmetry_mean</th>\n",
       "      <td>0.040833</td>\n",
       "    </tr>\n",
       "    <tr>\n",
       "      <th>radius_sd_error</th>\n",
       "      <td>0.037871</td>\n",
       "    </tr>\n",
       "    <tr>\n",
       "      <th>smoothness_sd_error</th>\n",
       "      <td>0.026025</td>\n",
       "    </tr>\n",
       "    <tr>\n",
       "      <th>texture_mean</th>\n",
       "      <td>0.022452</td>\n",
       "    </tr>\n",
       "    <tr>\n",
       "      <th>concave_points_worst</th>\n",
       "      <td>0.015606</td>\n",
       "    </tr>\n",
       "    <tr>\n",
       "      <th>perimeter_mean</th>\n",
       "      <td>0.013416</td>\n",
       "    </tr>\n",
       "    <tr>\n",
       "      <th>compactness_sd_error</th>\n",
       "      <td>0.011739</td>\n",
       "    </tr>\n",
       "    <tr>\n",
       "      <th>concavity_mean</th>\n",
       "      <td>0.011269</td>\n",
       "    </tr>\n",
       "  </tbody>\n",
       "</table>\n",
       "</div>"
      ],
      "text/plain": [
       "                         Gini_Coefficient\n",
       "concave_points_sd_error          0.723157\n",
       "fractal_dimension_mean           0.067700\n",
       "symmetry_mean                    0.040833\n",
       "radius_sd_error                  0.037871\n",
       "smoothness_sd_error              0.026025\n",
       "texture_mean                     0.022452\n",
       "concave_points_worst             0.015606\n",
       "perimeter_mean                   0.013416\n",
       "compactness_sd_error             0.011739\n",
       "concavity_mean                   0.011269"
      ]
     },
     "execution_count": 13,
     "metadata": {},
     "output_type": "execute_result"
    }
   ],
   "source": [
    "gini_df = pd.DataFrame(data=dt.feature_importances_, index=X.columns, columns=['Gini_Coefficient'])\n",
    "gini_df.sort_values(by='Gini_Coefficient', ascending=False).head(10)"
   ]
  },
  {
   "cell_type": "markdown",
   "metadata": {},
   "source": [
    "We can plot these Gini Coefficients in a bar plot to get a visual representation of the relative importance of features."
   ]
  },
  {
   "cell_type": "code",
   "execution_count": 14,
   "metadata": {},
   "outputs": [
    {
     "data": {
      "image/png": "[encoded data removed]",
      "text/plain": [
       "<Figure size 1008x720 with 1 Axes>"
      ]
     },
     "metadata": {
      "needs_background": "light"
     },
     "output_type": "display_data"
    }
   ],
   "source": [
    "gini_df.plot(kind='bar', figsize=(14, 10), title='Feature Importance');"
   ]
  },
  {
   "cell_type": "markdown",
   "metadata": {},
   "source": [
    "Based on the overlap between my earlier EDA (distribution plotting and t-tests, the logistic regression analysis, and the decision tree model, a few features stand out as being highly predictive of malignant tumors.\n",
    "\n",
    "* concave_points_sd_error\n",
    "* fractal_dimension_mean\n",
    "* perimeter_sd_error\n"
   ]
  },
  {
   "cell_type": "markdown",
   "metadata": {},
   "source": [
    "## Model Evaluation and Overfitting\n",
    "\n",
    "Looking at the train and test accuracy, I can see that while this model performs comparably well to the Logistic Regression, the overfitting is apparent in the noticeable difference between train and test accuracy (even though the model still performs quite well on test data). On interpretability, I think this model surpasses Logistic Regression in that I can get a clear picture of feature importance. \n",
    "\n",
    "Below I will implement a couple of methods to correct for overfitting and produce the same more comprehensive output as I did for the regression. The most common methods of reducing variance in a Decision Tree model are forms of 'pruning,' which refers to limiting the the **depth** (the number of levels to the tree) or the number of **features** used in making criteria for node-splitting. In practice, a popular method is to build use ensemble methods such as creating a large number of simplistic, high-bias models, then averaging the results."
   ]
  },
  {
   "cell_type": "code",
   "execution_count": 15,
   "metadata": {},
   "outputs": [
    {
     "name": "stdout",
     "output_type": "stream",
     "text": [
      "             precision    recall  f1-score   support\n",
      "\n",
      "          0       0.93      0.92      0.92        72\n",
      "          1       0.86      0.88      0.87        42\n",
      "\n",
      "avg / total       0.90      0.90      0.90       114\n",
      " \n",
      "\n",
      "ROC-AUC: 0.9222883597883598\n"
     ]
    },
    {
     "data": {
      "image/png": "[encoded data removed]",
      "text/plain": [
       "<Figure size 720x432 with 1 Axes>"
      ]
     },
     "metadata": {
      "needs_background": "light"
     },
     "output_type": "display_data"
    },
    {
     "data": {
      "text/html": [
       "<div>\n",
       "<style scoped>\n",
       "    .dataframe tbody tr th:only-of-type {\n",
       "        vertical-align: middle;\n",
       "    }\n",
       "\n",
       "    .dataframe tbody tr th {\n",
       "        vertical-align: top;\n",
       "    }\n",
       "\n",
       "    .dataframe thead th {\n",
       "        text-align: right;\n",
       "    }\n",
       "</style>\n",
       "<table border=\"1\" class=\"dataframe\">\n",
       "  <thead>\n",
       "    <tr style=\"text-align: right;\">\n",
       "      <th></th>\n",
       "      <th>Predicted Benign</th>\n",
       "      <th>Predicted Malignant</th>\n",
       "    </tr>\n",
       "  </thead>\n",
       "  <tbody>\n",
       "    <tr>\n",
       "      <th>Actual Benign</th>\n",
       "      <td>66</td>\n",
       "      <td>6</td>\n",
       "    </tr>\n",
       "    <tr>\n",
       "      <th>Actual Malignant</th>\n",
       "      <td>5</td>\n",
       "      <td>37</td>\n",
       "    </tr>\n",
       "  </tbody>\n",
       "</table>\n",
       "</div>"
      ],
      "text/plain": [
       "                  Predicted Benign  Predicted Malignant\n",
       "Actual Benign                   66                    6\n",
       "Actual Malignant                 5                   37"
      ]
     },
     "execution_count": 15,
     "metadata": {},
     "output_type": "execute_result"
    }
   ],
   "source": [
    "# Single Decision Tree\n",
    "\n",
    "# Setup gridsearch\n",
    "grid_params = {\n",
    "    'max_depth':[None, 1, 3, 5 ,7],\n",
    "    'max_features':[None, 1, 2, 3, 4, 5]\n",
    "}\n",
    "\n",
    "# Instantiate model\n",
    "dt = DecisionTreeClassifier()\n",
    "\n",
    "gs = GridSearchCV(dt, grid_params, scoring = 'roc_auc', n_jobs = -1)\n",
    "gs.fit(X_train, y_train)\n",
    "\n",
    "# Run and evaluate model\n",
    "model_dict, cm = get_classification_results(gs, 'Decision Tree (research)',\n",
    "                                            X_train, X_test,\n",
    "                                            y_train, y_test)\n",
    "\n",
    "print_confusion_matrix(cm)"
   ]
  },
  {
   "cell_type": "markdown",
   "metadata": {},
   "source": [
    "So based on a more comprehensive evaluation, taking into account measures other than accuracy, this model appears slightly worse than the Logistic Regression. However, it is still a very strong model and the actual metric that I would optimize for would have to depend on the relative cost of a Type I or Type II error. I imagine in the context of a medical diagnosis, a false negative would be more costly than a false positive, but I am not qualified to make that judgment without consulting an expert."
   ]
  },
  {
   "cell_type": "markdown",
   "metadata": {},
   "source": [
    "## Neural Net Approach\n",
    "\n",
    "Because I have highlighted two of the most interpretable and intuitive models above, I wanted to explore the other end of the spectrum: the 'black box'-like approach of neural networks. Given the context - a medical diagnosis - it is likely that I care much more about getting the right answer than being able to explain _how_ the model works.\n",
    "\n",
    "In this context, I won't be able to extract feature importance, and I am choosing not to dive too deeply into fine-tuning the model. I just want to see what a basic neural net can do with the same data."
   ]
  },
  {
   "cell_type": "code",
   "execution_count": 16,
   "metadata": {},
   "outputs": [],
   "source": [
    "# Split data into X and y\n",
    "X = cancer.drop(columns='diagnosis')\n",
    "y = cancer['diagnosis']\n",
    "\n",
    "# train test split\n",
    "X_train, X_test, y_train, y_test = train_test_split(X, y, \n",
    "                                                    test_size=0.2, \n",
    "                                                    random_state=42,\n",
    "                                                    stratify=y)\n",
    "\n",
    "\n",
    "ss = StandardScaler()\n",
    "ss.fit(X_train)\n",
    "X_train = ss.transform(X_train)\n",
    "X_test = ss.transform(X_test)"
   ]
  },
  {
   "cell_type": "code",
   "execution_count": 17,
   "metadata": {
    "collapsed": true
   },
   "outputs": [
    {
     "name": "stderr",
     "output_type": "stream",
     "text": [
      "Using TensorFlow backend.\n"
     ]
    },
    {
     "name": "stdout",
     "output_type": "stream",
     "text": [
      "WARNING:tensorflow:From /home/mattg/anaconda3/envs/dsi/lib/python3.6/site-packages/tensorflow/python/framework/op_def_library.py:263: colocate_with (from tensorflow.python.framework.ops) is deprecated and will be removed in a future version.\n",
      "Instructions for updating:\n",
      "Colocations handled automatically by placer.\n",
      "WARNING:tensorflow:From /home/mattg/anaconda3/envs/dsi/lib/python3.6/site-packages/tensorflow/python/ops/math_ops.py:3066: to_int32 (from tensorflow.python.ops.math_ops) is deprecated and will be removed in a future version.\n",
      "Instructions for updating:\n",
      "Use tf.cast instead.\n",
      "Train on 455 samples, validate on 114 samples\n",
      "Epoch 1/100\n",
      "455/455 [==============================] - 1s 2ms/step - loss: 0.6105 - acc: 0.7582 - val_loss: 0.4552 - val_acc: 0.9211\n",
      "Epoch 2/100\n",
      "455/455 [==============================] - 0s 144us/step - loss: 0.3621 - acc: 0.9231 - val_loss: 0.2471 - val_acc: 0.9474\n",
      "Epoch 3/100\n",
      "455/455 [==============================] - 0s 124us/step - loss: 0.2101 - acc: 0.9363 - val_loss: 0.1509 - val_acc: 0.9474\n",
      "Epoch 4/100\n",
      "455/455 [==============================] - 0s 161us/step - loss: 0.1468 - acc: 0.9451 - val_loss: 0.1061 - val_acc: 0.9649\n",
      "Epoch 5/100\n",
      "455/455 [==============================] - 0s 148us/step - loss: 0.1126 - acc: 0.9560 - val_loss: 0.0833 - val_acc: 0.9825\n",
      "Epoch 6/100\n",
      "455/455 [==============================] - 0s 190us/step - loss: 0.0921 - acc: 0.9670 - val_loss: 0.0696 - val_acc: 0.9737\n",
      "Epoch 7/100\n",
      "455/455 [==============================] - 0s 189us/step - loss: 0.0788 - acc: 0.9692 - val_loss: 0.0651 - val_acc: 0.9737\n",
      "Epoch 8/100\n",
      "455/455 [==============================] - 0s 157us/step - loss: 0.0694 - acc: 0.9692 - val_loss: 0.0616 - val_acc: 0.9912\n",
      "Epoch 9/100\n",
      "455/455 [==============================] - 0s 106us/step - loss: 0.0631 - acc: 0.9780 - val_loss: 0.0604 - val_acc: 0.9912\n",
      "Epoch 10/100\n",
      "455/455 [==============================] - 0s 157us/step - loss: 0.0567 - acc: 0.9846 - val_loss: 0.0576 - val_acc: 0.9825\n",
      "Epoch 11/100\n",
      "455/455 [==============================] - 0s 149us/step - loss: 0.0514 - acc: 0.9890 - val_loss: 0.0593 - val_acc: 0.9912\n",
      "Epoch 12/100\n",
      "455/455 [==============================] - 0s 113us/step - loss: 0.0466 - acc: 0.9912 - val_loss: 0.0624 - val_acc: 0.9825\n",
      "Epoch 13/100\n",
      "455/455 [==============================] - 0s 122us/step - loss: 0.0431 - acc: 0.9912 - val_loss: 0.0613 - val_acc: 0.9825\n",
      "Epoch 14/100\n",
      "455/455 [==============================] - 0s 197us/step - loss: 0.0398 - acc: 0.9912 - val_loss: 0.0662 - val_acc: 0.9825\n",
      "Epoch 15/100\n",
      "455/455 [==============================] - 0s 124us/step - loss: 0.0367 - acc: 0.9912 - val_loss: 0.0618 - val_acc: 0.9825\n",
      "Epoch 16/100\n",
      "455/455 [==============================] - 0s 119us/step - loss: 0.0337 - acc: 0.9934 - val_loss: 0.0713 - val_acc: 0.9825\n",
      "Epoch 17/100\n",
      "455/455 [==============================] - 0s 114us/step - loss: 0.0311 - acc: 0.9934 - val_loss: 0.0818 - val_acc: 0.9825\n",
      "Epoch 18/100\n",
      "455/455 [==============================] - 0s 120us/step - loss: 0.0291 - acc: 0.9934 - val_loss: 0.0696 - val_acc: 0.9825\n",
      "Epoch 19/100\n",
      "455/455 [==============================] - 0s 162us/step - loss: 0.0259 - acc: 0.9934 - val_loss: 0.0771 - val_acc: 0.9825\n",
      "Epoch 20/100\n",
      "455/455 [==============================] - 0s 113us/step - loss: 0.0235 - acc: 0.9934 - val_loss: 0.0928 - val_acc: 0.9737\n",
      "Epoch 21/100\n",
      "455/455 [==============================] - 0s 126us/step - loss: 0.0256 - acc: 0.9956 - val_loss: 0.0926 - val_acc: 0.9825\n",
      "Epoch 22/100\n",
      "455/455 [==============================] - 0s 129us/step - loss: 0.0205 - acc: 0.9956 - val_loss: 0.1039 - val_acc: 0.9737\n",
      "Epoch 23/100\n",
      "455/455 [==============================] - 0s 124us/step - loss: 0.0174 - acc: 0.9956 - val_loss: 0.1063 - val_acc: 0.9737\n",
      "Epoch 24/100\n",
      "455/455 [==============================] - 0s 121us/step - loss: 0.0160 - acc: 0.9956 - val_loss: 0.1095 - val_acc: 0.9649\n",
      "Epoch 25/100\n",
      "455/455 [==============================] - 0s 211us/step - loss: 0.0135 - acc: 0.9956 - val_loss: 0.1252 - val_acc: 0.9649\n",
      "Epoch 26/100\n",
      "455/455 [==============================] - 0s 200us/step - loss: 0.0141 - acc: 0.9978 - val_loss: 0.1485 - val_acc: 0.9649\n",
      "Epoch 27/100\n",
      "455/455 [==============================] - 0s 155us/step - loss: 0.0120 - acc: 0.9978 - val_loss: 0.1588 - val_acc: 0.9649\n",
      "Epoch 28/100\n",
      "455/455 [==============================] - 0s 124us/step - loss: 0.0097 - acc: 0.9978 - val_loss: 0.1485 - val_acc: 0.9649\n",
      "Epoch 29/100\n",
      "455/455 [==============================] - 0s 156us/step - loss: 0.0089 - acc: 1.0000 - val_loss: 0.1545 - val_acc: 0.9649\n",
      "Epoch 30/100\n",
      "455/455 [==============================] - 0s 118us/step - loss: 0.0071 - acc: 1.0000 - val_loss: 0.1619 - val_acc: 0.9649\n",
      "Epoch 31/100\n",
      "455/455 [==============================] - 0s 158us/step - loss: 0.0064 - acc: 1.0000 - val_loss: 0.1681 - val_acc: 0.9649\n",
      "Epoch 32/100\n",
      "455/455 [==============================] - 0s 117us/step - loss: 0.0057 - acc: 1.0000 - val_loss: 0.1844 - val_acc: 0.9649\n",
      "Epoch 33/100\n",
      "455/455 [==============================] - 0s 137us/step - loss: 0.0054 - acc: 1.0000 - val_loss: 0.1840 - val_acc: 0.9649\n",
      "Epoch 34/100\n",
      "455/455 [==============================] - 0s 124us/step - loss: 0.0047 - acc: 1.0000 - val_loss: 0.1841 - val_acc: 0.9649\n",
      "Epoch 35/100\n",
      "455/455 [==============================] - 0s 155us/step - loss: 0.0043 - acc: 1.0000 - val_loss: 0.2020 - val_acc: 0.9649\n",
      "Epoch 36/100\n",
      "455/455 [==============================] - 0s 152us/step - loss: 0.0041 - acc: 1.0000 - val_loss: 0.2092 - val_acc: 0.9649\n",
      "Epoch 37/100\n",
      "455/455 [==============================] - 0s 117us/step - loss: 0.0035 - acc: 1.0000 - val_loss: 0.2079 - val_acc: 0.9649\n",
      "Epoch 38/100\n",
      "455/455 [==============================] - 0s 105us/step - loss: 0.0032 - acc: 1.0000 - val_loss: 0.2166 - val_acc: 0.9649\n",
      "Epoch 39/100\n",
      "455/455 [==============================] - 0s 129us/step - loss: 0.0029 - acc: 1.0000 - val_loss: 0.2201 - val_acc: 0.9649\n",
      "Epoch 40/100\n",
      "455/455 [==============================] - 0s 125us/step - loss: 0.0026 - acc: 1.0000 - val_loss: 0.2235 - val_acc: 0.9649\n",
      "Epoch 41/100\n",
      "455/455 [==============================] - 0s 127us/step - loss: 0.0024 - acc: 1.0000 - val_loss: 0.2375 - val_acc: 0.9649\n",
      "Epoch 42/100\n",
      "455/455 [==============================] - 0s 146us/step - loss: 0.0022 - acc: 1.0000 - val_loss: 0.2400 - val_acc: 0.9649\n",
      "Epoch 43/100\n",
      "455/455 [==============================] - 0s 126us/step - loss: 0.0021 - acc: 1.0000 - val_loss: 0.2349 - val_acc: 0.9649\n",
      "Epoch 44/100\n",
      "455/455 [==============================] - 0s 126us/step - loss: 0.0019 - acc: 1.0000 - val_loss: 0.2512 - val_acc: 0.9649\n",
      "Epoch 45/100\n",
      "455/455 [==============================] - 0s 120us/step - loss: 0.0018 - acc: 1.0000 - val_loss: 0.2559 - val_acc: 0.9649\n",
      "Epoch 46/100\n",
      "455/455 [==============================] - 0s 119us/step - loss: 0.0018 - acc: 1.0000 - val_loss: 0.2524 - val_acc: 0.9649\n",
      "Epoch 47/100\n",
      "455/455 [==============================] - 0s 174us/step - loss: 0.0016 - acc: 1.0000 - val_loss: 0.2602 - val_acc: 0.9649\n",
      "Epoch 48/100\n",
      "455/455 [==============================] - 0s 144us/step - loss: 0.0015 - acc: 1.0000 - val_loss: 0.2673 - val_acc: 0.9649\n",
      "Epoch 49/100\n",
      "455/455 [==============================] - 0s 127us/step - loss: 0.0014 - acc: 1.0000 - val_loss: 0.2700 - val_acc: 0.9649\n",
      "Epoch 50/100\n",
      "455/455 [==============================] - 0s 127us/step - loss: 0.0013 - acc: 1.0000 - val_loss: 0.2756 - val_acc: 0.9649\n",
      "Epoch 51/100\n",
      "455/455 [==============================] - 0s 144us/step - loss: 0.0012 - acc: 1.0000 - val_loss: 0.2767 - val_acc: 0.9649\n",
      "Epoch 52/100\n",
      "455/455 [==============================] - 0s 135us/step - loss: 0.0012 - acc: 1.0000 - val_loss: 0.2766 - val_acc: 0.9649\n",
      "Epoch 53/100\n",
      "455/455 [==============================] - 0s 128us/step - loss: 0.0011 - acc: 1.0000 - val_loss: 0.2889 - val_acc: 0.9649\n",
      "Epoch 54/100\n",
      "455/455 [==============================] - 0s 166us/step - loss: 0.0010 - acc: 1.0000 - val_loss: 0.2885 - val_acc: 0.9649\n",
      "Epoch 55/100\n",
      "455/455 [==============================] - 0s 125us/step - loss: 9.3984e-04 - acc: 1.0000 - val_loss: 0.2922 - val_acc: 0.9649\n",
      "Epoch 56/100\n",
      "455/455 [==============================] - 0s 123us/step - loss: 9.5479e-04 - acc: 1.0000 - val_loss: 0.2952 - val_acc: 0.9649\n",
      "Epoch 57/100\n",
      "455/455 [==============================] - 0s 124us/step - loss: 8.6188e-04 - acc: 1.0000 - val_loss: 0.3045 - val_acc: 0.9649\n",
      "Epoch 58/100\n",
      "455/455 [==============================] - 0s 106us/step - loss: 8.1339e-04 - acc: 1.0000 - val_loss: 0.3055 - val_acc: 0.9649\n",
      "Epoch 59/100\n",
      "455/455 [==============================] - 0s 111us/step - loss: 7.7701e-04 - acc: 1.0000 - val_loss: 0.3028 - val_acc: 0.9649\n",
      "Epoch 60/100\n",
      "455/455 [==============================] - 0s 117us/step - loss: 7.5782e-04 - acc: 1.0000 - val_loss: 0.3040 - val_acc: 0.9649\n",
      "Epoch 61/100\n",
      "455/455 [==============================] - 0s 129us/step - loss: 7.2655e-04 - acc: 1.0000 - val_loss: 0.3097 - val_acc: 0.9649\n",
      "Epoch 62/100\n",
      "455/455 [==============================] - 0s 188us/step - loss: 6.8522e-04 - acc: 1.0000 - val_loss: 0.3090 - val_acc: 0.9649\n",
      "Epoch 63/100\n",
      "455/455 [==============================] - 0s 105us/step - loss: 6.8107e-04 - acc: 1.0000 - val_loss: 0.3131 - val_acc: 0.9649\n",
      "Epoch 64/100\n",
      "455/455 [==============================] - 0s 113us/step - loss: 6.1022e-04 - acc: 1.0000 - val_loss: 0.3142 - val_acc: 0.9649\n",
      "Epoch 65/100\n",
      "455/455 [==============================] - 0s 133us/step - loss: 6.3469e-04 - acc: 1.0000 - val_loss: 0.3151 - val_acc: 0.9649\n",
      "Epoch 66/100\n",
      "455/455 [==============================] - 0s 114us/step - loss: 5.5968e-04 - acc: 1.0000 - val_loss: 0.3171 - val_acc: 0.9649\n",
      "Epoch 67/100\n",
      "455/455 [==============================] - 0s 108us/step - loss: 5.4014e-04 - acc: 1.0000 - val_loss: 0.3185 - val_acc: 0.9649\n",
      "Epoch 68/100\n",
      "455/455 [==============================] - 0s 110us/step - loss: 5.3417e-04 - acc: 1.0000 - val_loss: 0.3198 - val_acc: 0.9649\n",
      "Epoch 69/100\n",
      "455/455 [==============================] - 0s 110us/step - loss: 5.2413e-04 - acc: 1.0000 - val_loss: 0.3198 - val_acc: 0.9649\n",
      "Epoch 70/100\n",
      "455/455 [==============================] - 0s 109us/step - loss: 4.6699e-04 - acc: 1.0000 - val_loss: 0.3209 - val_acc: 0.9649\n",
      "Epoch 71/100\n",
      "455/455 [==============================] - 0s 129us/step - loss: 4.4868e-04 - acc: 1.0000 - val_loss: 0.3239 - val_acc: 0.9649\n",
      "Epoch 72/100\n",
      "455/455 [==============================] - 0s 116us/step - loss: 4.3426e-04 - acc: 1.0000 - val_loss: 0.3241 - val_acc: 0.9649\n",
      "Epoch 73/100\n",
      "455/455 [==============================] - 0s 117us/step - loss: 4.1392e-04 - acc: 1.0000 - val_loss: 0.3247 - val_acc: 0.9649\n",
      "Epoch 74/100\n",
      "455/455 [==============================] - 0s 122us/step - loss: 3.9592e-04 - acc: 1.0000 - val_loss: 0.3262 - val_acc: 0.9649\n",
      "Epoch 75/100\n",
      "455/455 [==============================] - 0s 109us/step - loss: 3.9669e-04 - acc: 1.0000 - val_loss: 0.3274 - val_acc: 0.9649\n",
      "Epoch 76/100\n",
      "455/455 [==============================] - 0s 111us/step - loss: 3.7464e-04 - acc: 1.0000 - val_loss: 0.3281 - val_acc: 0.9649\n",
      "Epoch 77/100\n",
      "455/455 [==============================] - 0s 103us/step - loss: 3.6326e-04 - acc: 1.0000 - val_loss: 0.3291 - val_acc: 0.9649\n",
      "Epoch 78/100\n",
      "455/455 [==============================] - 0s 106us/step - loss: 3.4282e-04 - acc: 1.0000 - val_loss: 0.3298 - val_acc: 0.9649\n",
      "Epoch 79/100\n",
      "455/455 [==============================] - 0s 111us/step - loss: 3.3811e-04 - acc: 1.0000 - val_loss: 0.3308 - val_acc: 0.9649\n",
      "Epoch 80/100\n",
      "455/455 [==============================] - 0s 139us/step - loss: 3.2503e-04 - acc: 1.0000 - val_loss: 0.3303 - val_acc: 0.9649\n",
      "Epoch 81/100\n",
      "455/455 [==============================] - 0s 119us/step - loss: 3.1368e-04 - acc: 1.0000 - val_loss: 0.3327 - val_acc: 0.9649\n",
      "Epoch 82/100\n",
      "455/455 [==============================] - 0s 123us/step - loss: 3.2237e-04 - acc: 1.0000 - val_loss: 0.3386 - val_acc: 0.9649\n",
      "Epoch 83/100\n",
      "455/455 [==============================] - 0s 108us/step - loss: 3.2049e-04 - acc: 1.0000 - val_loss: 0.3389 - val_acc: 0.9649\n",
      "Epoch 84/100\n",
      "455/455 [==============================] - 0s 131us/step - loss: 2.8100e-04 - acc: 1.0000 - val_loss: 0.3386 - val_acc: 0.9649\n",
      "Epoch 85/100\n",
      "455/455 [==============================] - 0s 114us/step - loss: 2.6733e-04 - acc: 1.0000 - val_loss: 0.3394 - val_acc: 0.9649\n",
      "Epoch 86/100\n",
      "455/455 [==============================] - 0s 135us/step - loss: 2.5712e-04 - acc: 1.0000 - val_loss: 0.3399 - val_acc: 0.9649\n",
      "Epoch 87/100\n",
      "455/455 [==============================] - 0s 129us/step - loss: 2.4823e-04 - acc: 1.0000 - val_loss: 0.3403 - val_acc: 0.9649\n",
      "Epoch 88/100\n",
      "455/455 [==============================] - 0s 128us/step - loss: 2.4621e-04 - acc: 1.0000 - val_loss: 0.3409 - val_acc: 0.9649\n",
      "Epoch 89/100\n",
      "455/455 [==============================] - 0s 126us/step - loss: 2.3581e-04 - acc: 1.0000 - val_loss: 0.3431 - val_acc: 0.9649\n",
      "Epoch 90/100\n",
      "455/455 [==============================] - 0s 108us/step - loss: 2.2965e-04 - acc: 1.0000 - val_loss: 0.3428 - val_acc: 0.9649\n",
      "Epoch 91/100\n",
      "455/455 [==============================] - 0s 102us/step - loss: 2.2230e-04 - acc: 1.0000 - val_loss: 0.3424 - val_acc: 0.9649\n",
      "Epoch 92/100\n",
      "455/455 [==============================] - 0s 148us/step - loss: 2.1284e-04 - acc: 1.0000 - val_loss: 0.3442 - val_acc: 0.9649\n",
      "Epoch 93/100\n",
      "455/455 [==============================] - 0s 105us/step - loss: 2.0718e-04 - acc: 1.0000 - val_loss: 0.3443 - val_acc: 0.9649\n",
      "Epoch 94/100\n",
      "455/455 [==============================] - 0s 233us/step - loss: 2.0537e-04 - acc: 1.0000 - val_loss: 0.3467 - val_acc: 0.9649\n",
      "Epoch 95/100\n",
      "455/455 [==============================] - 0s 173us/step - loss: 1.9679e-04 - acc: 1.0000 - val_loss: 0.3462 - val_acc: 0.9649\n",
      "Epoch 96/100\n",
      "455/455 [==============================] - 0s 165us/step - loss: 2.1115e-04 - acc: 1.0000 - val_loss: 0.3509 - val_acc: 0.9649\n",
      "Epoch 97/100\n",
      "455/455 [==============================] - 0s 160us/step - loss: 1.9449e-04 - acc: 1.0000 - val_loss: 0.3506 - val_acc: 0.9649\n",
      "Epoch 98/100\n",
      "455/455 [==============================] - 0s 189us/step - loss: 1.8207e-04 - acc: 1.0000 - val_loss: 0.3513 - val_acc: 0.9649\n",
      "Epoch 99/100\n",
      "455/455 [==============================] - 0s 188us/step - loss: 1.7836e-04 - acc: 1.0000 - val_loss: 0.3509 - val_acc: 0.9649\n",
      "Epoch 100/100\n",
      "455/455 [==============================] - 0s 185us/step - loss: 1.6842e-04 - acc: 1.0000 - val_loss: 0.3518 - val_acc: 0.9649\n"
     ]
    }
   ],
   "source": [
    "from keras.models import Sequential\n",
    "from keras.layers import Dense\n",
    "\n",
    "model = Sequential()\n",
    "\n",
    "input_units = X_train.shape[1]\n",
    "hidden_units = input_units\n",
    "\n",
    "model.add(Dense(hidden_units, input_dim=input_units, activation='relu'))\n",
    "model.add(Dense(hidden_units*2, input_dim=input_units, activation='relu'))\n",
    "model.add(Dense(hidden_units, input_dim=input_units, activation='relu'))\n",
    "model.add(Dense(1, activation='sigmoid'))\n",
    "\n",
    "model.compile(loss='binary_crossentropy', optimizer='adam', metrics=['accuracy'])\n",
    "\n",
    "history = model.fit(X_train, y_train, validation_data=(X_test, y_test), \n",
    "          epochs=100, batch_size=32)"
   ]
  },
  {
   "cell_type": "code",
   "execution_count": 18,
   "metadata": {},
   "outputs": [
    {
     "data": {
      "text/plain": [
       "1.0"
      ]
     },
     "execution_count": 18,
     "metadata": {},
     "output_type": "execute_result"
    }
   ],
   "source": [
    "history.history['acc'][-1]"
   ]
  },
  {
   "cell_type": "markdown",
   "metadata": {},
   "source": [
    "A simple neural net with a basic structure and almost no fine tuning achieves produces a highly accurate model. This is only one simple example, and in this paricular case, the best Logistic Regression actually does quite well, but for the particular problem at hand, I would lean towards using the neural net if I had to choose, given the stakes at hand and my goal being more about getting the most reliable results rather than the most interpretable."
   ]
  },
  {
   "cell_type": "markdown",
   "metadata": {},
   "source": [
    "## Explanation\n",
    "\n",
    "### For technical audiences\n",
    "\n",
    "The models I created above performed quite well, but there are a several ways in which I could improve performance. First and foremost, with more time spent on EDA and background research, I can make improvements to feature selection and feature engineering. Above, I simply used every feature as is. There are two potential problems with such a tactic. One is multicollinearity: in addition to helping me find variables that would be good predictors, my earlier EDA (particularly my pairplots) show that several of the predictors are correlated with each other. For example, `radius_mean` and `radius_worst` appear to have a near-perfect linear relationship. This violates a basic assumption of regression analysis and suggests that using both features is unnecessary at best and problematic at worst. I could attempt to address this problem through some form of dimensionality reduction, either by dropping some variables or by implementing Principal Component Analysis. Another problem with my approach is that I did not explore interactions between variables, or polynomial features. Oftentimes two variables on their own are not useful predictors, but some combination of them may be. Or a feature can be squared (or cubed, etc.) to better represent its relationship with the target. \n",
    "\n",
    "Beyong feature engineering, there are some approaches I can take to improve my modeling. I only scratched the surface of hyperparameter tuning - I can explore a wider range of ridge and lasso penalties, or polynomial features (discussed above) in my logistic regression, and I can further try to optimize the `max_depth` and `max_features` parameters of my Decision Tree. Furthermore, there is no reason to stop at a single Decision Tree in my analysis. A better approach may be to Build an ensemble classifier from a variety of tree-based models (a voting classifier incorporating a number of high-bias models often does quite well and helps address the overfitting inherent in tree-based models). \n",
    "\n",
    "### For non-technical audiences\n",
    "\n",
    "In the above analysis I attempt to predict whether a given tissue sample will be diagnosed as malignant breast cancer or benign - a **binary classification** problem. The features used to predict the outcome are measurements of cell characteristics and are all numeric (as in not categorical) values. Minimal preprocessing of data was required; the one necessary step was to convert my diagnosis vector to a binary outcome (1 for malignant, 0 for benign).\n",
    "\n",
    "Before applying machine learning problems, I conducted some exploratory data analysis to get a feel for which variables were likely to be useful predictors of malignant diagnoses. A major component of this analysis involved comparing the distributions of each variable between malignant and benign samples, both visually and through statistical tests. From this analysis I expected `radius_mean`, `smoothness_mean`, `perimeter_mean`, `perimeter_sd_error`, and `concave_points_sd_error` to be strong predictors. As one example, it seems clear from both a visual representation and a t-test that the mean of `concave_points_sd_error` is higher in malignant observations than in benign observations.\n",
    "\n",
    "After exploring the data, I moved on to making predictions using two commonly used (and relatively interpretable) machine learning models - **logistic regression** and **decision trees**. In a logistic regression, there is some mathematical nuance, but essentially the relationship between the independent variables and the _probability_ of observing a value of 1 in the dependent variable is assumed to be linear. So we are solving for the coefficients in a linear equation which represent the effect of each variable on the _odds_ of observing a particular binary outcome. The logistic regression, despite its simplicity, performed very well and had an accuracy above 90% (meaning 90% of predictions were correct) on both training and testing data (meaning the model performs similarly well on 'new' data as on the data it was fit to). In the logistic regression model, some features for which larger measurements _increased_ the probability of a malignant diagnosis were `area_sd_error`, `concave_points_worst`, and `concave_points_mean` and some features that _decreased_ the probability of a malignant diagnosis were `compactness_mean`, `area_worst`, and `concavity_sd_error`.\n",
    "\n",
    "The decision tree is conceptually simpler than a logistic regression - it attempts to divide the dataset into subsamples based on some criteria (for example - split the dataset in two depending on whether a particular measurement is greater than or less than some threshold) - but can generate very complex models and can be helpful when trying to model non-linear relationships. The decisions about how to split the data into categories are made in such a way as to produce subsamples that are more 'pure' than the parent sample. For example: if you have a sample where 50% of observations are malignant and 50% are benign, you'd like to split based on some criteria such that you end up with one subsample that is 100% malignant and one that is 100% benign. While the resulting tree can be incredibly complex and can result in numerous decision points, the decision tree process provides information regarding which features it found most useful for categorizing the data. By this criterion - the most important features for predicting a malignant tumor were `concave_points_sd_error`, `fractal_dimension_mean`, `concave_points_mean`, and `symmetry_mean`. The decision tree model also performed quite well, but appeared to exhibit higher **variance** than the logistic regression, meaning that different inputs would result in very different models and that the resulting model performs noticeably worse on testing data than on training data.\n",
    "\n",
    "Finally, I tested a simple neural network model, which performed exceptionally well but is much more of a 'black box' and therefore does not provide clear answers as to how it is making predictions or which features were more or less useful as predictors."
   ]
  }
 ],
 "metadata": {
  "kernelspec": {
   "display_name": "Python [conda env:dsi]",
   "language": "python",
   "name": "conda-env-dsi-py"
  },
  "language_info": {
   "codemirror_mode": {
    "name": "ipython",
    "version": 3
   },
   "file_extension": ".py",
   "mimetype": "text/x-python",
   "name": "python",
   "nbconvert_exporter": "python",
   "pygments_lexer": "ipython3",
   "version": "3.6.8"
  }
 },
 "nbformat": 4,
 "nbformat_minor": 2
}
